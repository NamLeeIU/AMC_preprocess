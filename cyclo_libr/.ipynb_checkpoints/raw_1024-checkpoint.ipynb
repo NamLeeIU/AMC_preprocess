{
 "cells": [
  {
   "cell_type": "code",
   "execution_count": 1,
   "metadata": {},
   "outputs": [],
   "source": [
    "#%matplotlib notebook\n",
    "import h5py, pickle\n",
    "import numpy as np\n",
    "import numpy\n",
    "import matplotlib.pyplot as plt\n",
    "import matplotlib.cm as cm\n",
    "from sklearn.model_selection import train_test_split\n",
    "from sklearn.discriminant_analysis import LinearDiscriminantAnalysis as LDA\n",
    "from sklearn.linear_model import LogisticRegression as LRG\n",
    "from sklearn.decomposition import PCA\n",
    "import lib.hos as hos\n",
    "\n",
    "mods_ = ['OOK', '4ASK', '8ASK', 'BPSK', 'QPSK', '8PSK', '16PSK', '32PSK', '16APSK',\\\n",
    "         '32APSK', '64APSK', '128APSK', '16QAM', '32QAM', '64QAM', '128QAM', \\\n",
    "         '256QAM', 'AM-SSB-WC', 'AM-SSB-SC', 'AM-DSB-WC', 'AM-DSB-SC', 'FM', 'GMSK', 'OQPSK']\n",
    "mod = [i for i in range(0, 24) if i not in [17,18,19,20,21]]  # all digital mods.\n",
    "\n",
    "hf = h5py.File('../dataset/201801a_data_test.h5', 'r+')\n",
    "x = hf['test']\n",
    "p = int(len(x) / 24)\n",
    "pp = int(p / 26)\n",
    "pts = 200\n",
    "# x_train, x_test, y_train, y_test = train_test_split(xx, yy, test_size=0.15, random_state=42, stratify=yy)\n"
   ]
  },
  {
   "cell_type": "markdown",
   "metadata": {},
   "source": [
    "### compare."
   ]
  },
  {
   "cell_type": "code",
   "execution_count": 10,
   "metadata": {},
   "outputs": [
    {
     "name": "stdout",
     "output_type": "stream",
     "text": [
      "OOK\n",
      "4ASK\n",
      "8ASK\n",
      "BPSK\n",
      "QPSK\n",
      "8PSK\n",
      "16PSK\n",
      "32PSK\n",
      "16APSK\n",
      "32APSK\n",
      "64APSK\n",
      "128APSK\n",
      "16QAM\n",
      "32QAM\n",
      "64QAM\n",
      "128QAM\n",
      "256QAM\n",
      "GMSK\n",
      "OQPSK\n",
      "(38000, 1024)\n",
      "(38000,)\n"
     ]
    },
    {
     "data": {
      "text/plain": [
       "0.35678947368421055"
      ]
     },
     "execution_count": 10,
     "metadata": {},
     "output_type": "execute_result"
    }
   ],
   "source": [
    "snr = range(16,26)\n",
    "xx = []\n",
    "for i in mod:\n",
    "    for j in snr:\n",
    "        for k in range(2, pts + 2):\n",
    "            base = i*p + j*pp + k\n",
    "            s = x[base,:,:]\n",
    "            #xx.append(s.flatten())\n",
    "            xx.append(abs(s[:,0]+1j*s[:,1]))\n",
    "    print (mods_[i])\n",
    "xx = np.asarray(xx)\n",
    "print (xx.shape)\n",
    "\n",
    "yy = []\n",
    "for i in range(len(mod)):\n",
    "    yy.append([i] * int(pts * len(snr)))\n",
    "yy = np.hstack(yy)\n",
    "print (yy.shape)\n",
    "\n",
    "lda = LDA().fit(xx, yy)\n",
    "lda.score(xx, yy)"
   ]
  },
  {
   "cell_type": "markdown",
   "metadata": {},
   "source": [
    "## Compare acc.\n",
    "low snr      19.240%\n",
    "\n",
    "middle snr   25.75%\n",
    "\n",
    "high snr     35.678%"
   ]
  },
  {
   "cell_type": "markdown",
   "metadata": {},
   "source": [
    "## Compare acc.\n",
    "low snr      28.724%\n",
    "\n",
    "middle snr   28.465%\n",
    "\n",
    "high snr     23.229%"
   ]
  },
  {
   "cell_type": "code",
   "execution_count": null,
   "metadata": {},
   "outputs": [],
   "source": []
  }
 ],
 "metadata": {
  "kernelspec": {
   "display_name": "Python 3",
   "language": "python",
   "name": "python3"
  },
  "language_info": {
   "codemirror_mode": {
    "name": "ipython",
    "version": 3
   },
   "file_extension": ".py",
   "mimetype": "text/x-python",
   "name": "python",
   "nbconvert_exporter": "python",
   "pygments_lexer": "ipython3",
   "version": "3.6.9"
  }
 },
 "nbformat": 4,
 "nbformat_minor": 2
}
