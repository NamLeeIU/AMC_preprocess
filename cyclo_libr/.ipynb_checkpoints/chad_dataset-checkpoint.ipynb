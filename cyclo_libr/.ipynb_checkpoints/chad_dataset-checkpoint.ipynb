{
 "cells": [
  {
   "cell_type": "code",
   "execution_count": null,
   "metadata": {},
   "outputs": [],
   "source": [
    "\n",
    "import h5py, pickle\n",
    "import numpy as np\n",
    "import matplotlib.pyplot as plt\n",
    "from matplotlib import cm\n",
    "from mpl_toolkits.mplot3d import Axes3D\n",
    "import sys\n",
    "sys.path.append('lib/')\n",
    "import lib_interface as lib"
   ]
  },
  {
   "cell_type": "code",
   "execution_count": null,
   "metadata": {},
   "outputs": [],
   "source": [
    "mod_list = ['bpsk', 'qpsk', '8psk', 'dqpsk', 'msk', '16qam', '64qam', '256qam']\n",
    "dataset = np.load('../dataset/challenge_chad_dataset.dat')\n",
    "leng = 5000\n",
    "dataset = dataset[:, :, :leng]\n",
    "\n",
    "n = 3  # for 2 random indices\n",
    "index = np.random.choice(dataset.shape[1], n, replace=False)\n",
    "dataset = dataset[:,index,:]\n",
    "print (dataset.shape)"
   ]
  },
  {
   "cell_type": "code",
   "execution_count": null,
   "metadata": {},
   "outputs": [],
   "source": [
    "hf = h5py.File('../dataset/201801a_data_test.h5', 'r+')\n",
    "x = hf['test']\n",
    "p = int(len(x) / 24)\n",
    "pp = int(p / 26)\n",
    "n = 1\n",
    "snr = range(23,24)\n",
    "\n",
    "mod_list = ['OOK', '4ASK', '8ASK', 'BPSK', 'QPSK', '8PSK', '16PSK', '32PSK', '16APSK',\\\n",
    "         '32APSK', '64APSK', '128APSK', '16QAM', '32QAM', '64QAM', '128QAM', \\\n",
    "         '256QAM', 'AM-SSB-WC', 'AM-SSB-SC', 'AM-DSB-WC', 'AM-DSB-SC', 'FM', 'GMSK', 'OQPSK']\n",
    "mod = range(5) #[i for i in range(0, 24) if i in [0,1,19,20,21]]\n",
    "dataset = []\n",
    "for i in mod:\n",
    "    for j in snr:\n",
    "        base = i*p + j*pp + 3\n",
    "        dataset.append(x[base:(base+n),:,0] + 1j*x[base:(base+n),:,1])\n",
    "dataset = np.asarray(dataset)\n",
    "print (dataset.shape)"
   ]
  },
  {
   "cell_type": "code",
   "execution_count": null,
   "metadata": {
    "scrolled": true
   },
   "outputs": [],
   "source": [
    "params = {  'window_size'    : 1024,\n",
    "            'window_step'    : 1024,\n",
    "            'dwt_wave'       : 'haar',\n",
    "            'cwt_wave'       : 'gaus1',\n",
    "            'cwt_scal'       : 4,\n",
    "            'ccsd_sigma'     : 0.5,\n",
    "            'ctcf_resolution': 2\n",
    "            }\n",
    "\n",
    "output = []\n",
    "features = lib.Trans_Pool(cuda=True, save_to_file=False, **params)\n",
    "\n",
    "for i in dataset:\n",
    "    output.append(features.SCD_graph(i))\n",
    "    print (np.asarray(output).shape)\n",
    "    \n",
    "output = np.asarray(output)\n",
    "print (output.shape)"
   ]
  },
  {
   "cell_type": "code",
   "execution_count": null,
   "metadata": {},
   "outputs": [],
   "source": [
    "%matplotlib notebook\n",
    "\n",
    "plt.imshow(output[-1,0,:,:], cmap='bwr', interpolation='none')\n",
    "plt.show()\n"
   ]
  },
  {
   "cell_type": "code",
   "execution_count": null,
   "metadata": {
    "scrolled": true
   },
   "outputs": [],
   "source": [
    "for cnt, i in enumerate(output):\n",
    "    for j in i:\n",
    "        print ('class', mod_list[cnt])\n",
    "        plt.imshow(j, cmap='bwr', interpolation='none')\n",
    "        plt.show()\n"
   ]
  },
  {
   "cell_type": "code",
   "execution_count": null,
   "metadata": {},
   "outputs": [],
   "source": []
  },
  {
   "cell_type": "code",
   "execution_count": null,
   "metadata": {},
   "outputs": [],
   "source": [
    "np.save(open('_chad_dataset.dat', 'wb'), dataset, allow_pickle=False)\n"
   ]
  },
  {
   "cell_type": "code",
   "execution_count": null,
   "metadata": {},
   "outputs": [],
   "source": [
    "import h5py\n",
    "import numpy as np\n",
    "import numpy\n",
    "import matplotlib.pyplot as plt\n",
    "\n",
    "#dataset = np.load('../../dataset/challenge_chad_dataset.dat')\n",
    "#base = 0\n",
    "#input_data = dataset[:, base:(base+50), :8000]\n",
    "input_data = []\n",
    "for i in range(1841, 1849):\n",
    "    with open('../../dataset/batch_1/Batch_Dir_1/signal_{}.tim'.format(i), 'rb') as fid:\n",
    "        data_array = np.fromfile(fid, np.single)\n",
    "    data_array = data_array[2::2] + 1j * data_array[3::2]\n",
    "    input_data.append(data_array)\n",
    "    \n",
    "input_data = np.asarray(input_data)\n",
    "\n",
    "M = {}\n",
    "#num = 2\n",
    "for mod in mod_list:\n",
    "    M[mod] = np.zeros([128,128])\n",
    "\n",
    "def plotqam(data,mod,re_max,re_min,im_max,im_min):\n",
    "\n",
    "    for temp in data:\n",
    "        re = int(127*(temp.real-re_min)/(re_max-re_min))\n",
    "        im = int(127*(temp.imag-im_min)/(im_max-im_min))\n",
    "        M[mod][re,im] += 1\n",
    "\n",
    "    msg = ('MOD is : {} . \\n real range: {:.4f}--{:.4f}; imag range: {:.4f}--{:.4f} \\n'.\\\n",
    "           format(mod,re_max,re_min,im_max,im_min))\n",
    "    print (msg)\n",
    "    plt.imshow(M[mod][:,:])\n",
    "    plt.show()\n",
    "\n",
    "for i in range(8):\n",
    "    for num in range(1):\n",
    "        imax = max(input_data[i, :].real)\n",
    "        qmax = max(input_data[i, :].imag)\n",
    "        imin = min(input_data[i, :].real)\n",
    "        qmin = min(input_data[i, :].imag)\n",
    "\n",
    "        plotqam(input_data[i, :], mod_list[i], imax, imin, qmax, qmin)\n",
    "    "
   ]
  },
  {
   "cell_type": "code",
   "execution_count": null,
   "metadata": {
    "scrolled": true
   },
   "outputs": [],
   "source": [
    "ft = ft.reshape((8, 50, length))\n",
    "large = 18\n",
    "para = {  'legend.fontsize'  : large,\n",
    "           'figure.figsize'  : (20, 5),\n",
    "           'axes.labelsize'  : large,\n",
    "           'axes.titlesize'  : large}\n",
    "plt.rcParams.update(para)\n",
    "plt.figure()\n",
    "for i in range(8):\n",
    "    for j in range(2, 5):\n",
    "        plt.plot(input_data[i, j, :].real)\n",
    "        plt.plot(input_data[i, j, :].imag)\n",
    "        plt.title(mod_list[i])\n",
    "        plt.show()\n",
    "        "
   ]
  },
  {
   "cell_type": "code",
   "execution_count": null,
   "metadata": {
    "scrolled": true
   },
   "outputs": [],
   "source": [
    "ft = ft.reshape((8, 50, length))\n",
    "large = 18\n",
    "para = {  'legend.fontsize'  : large,\n",
    "           'figure.figsize'  : (20, 5),\n",
    "           'axes.labelsize'  : large,\n",
    "           'axes.titlesize'  : large}\n",
    "plt.rcParams.update(para)\n",
    "plt.figure()\n",
    "for i in range(8):\n",
    "    for j in range(3):\n",
    "        plt.plot(ft[i, j, :].real)\n",
    "        plt.plot(ft[i, j, :].imag)\n",
    "        plt.title(mod_list[i])\n",
    "        plt.show()\n",
    "        "
   ]
  },
  {
   "cell_type": "code",
   "execution_count": null,
   "metadata": {},
   "outputs": [],
   "source": []
  }
 ],
 "metadata": {
  "kernelspec": {
   "display_name": "Python 3",
   "language": "python",
   "name": "python3"
  },
  "language_info": {
   "codemirror_mode": {
    "name": "ipython",
    "version": 3
   },
   "file_extension": ".py",
   "mimetype": "text/x-python",
   "name": "python",
   "nbconvert_exporter": "python",
   "pygments_lexer": "ipython3",
   "version": "3.6.9"
  }
 },
 "nbformat": 4,
 "nbformat_minor": 2
}
