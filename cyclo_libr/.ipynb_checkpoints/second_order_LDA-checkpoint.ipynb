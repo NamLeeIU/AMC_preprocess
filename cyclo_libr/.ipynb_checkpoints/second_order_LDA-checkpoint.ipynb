{
 "cells": [
  {
   "cell_type": "code",
   "execution_count": 1,
   "metadata": {},
   "outputs": [],
   "source": [
    "#%matplotlib notebook\n",
    "import h5py, pickle\n",
    "import numpy as np\n",
    "import numpy\n",
    "import matplotlib.pyplot as plt\n",
    "import matplotlib.cm as cm\n",
    "from sklearn.model_selection import train_test_split\n",
    "from sklearn.discriminant_analysis import LinearDiscriminantAnalysis as LDA\n",
    "from sklearn.linear_model import LogisticRegression as LRG\n",
    "from sklearn.decomposition import PCA\n",
    "import lib.fot as fot\n",
    "import lib.sot as crr\n",
    "import lib.hos as hos\n",
    "from skimage.measure import block_reduce\n",
    "\n",
    "mods_ = ['OOK', '4ASK', '8ASK', 'BPSK', 'QPSK', '8PSK', '16PSK', '32PSK', '16APSK',\\\n",
    "         '32APSK', '64APSK', '128APSK', '16QAM', '32QAM', '64QAM', '128QAM', \\\n",
    "         '256QAM', 'AM-SSB-WC', 'AM-SSB-SC', 'AM-DSB-WC', 'AM-DSB-SC', 'FM', 'GMSK', 'OQPSK']\n",
    "mod = [i for i in range(0, 24) if i not in [17,18,19,20,21]]  # all digital mods.\n",
    "\n",
    "hf = h5py.File('../dataset/201801a_data_test.h5', 'r+')\n",
    "#hf = h5py.File('second_order_features.h5', 'r+')\n",
    "#xx1 = hf['low']\n",
    "#xx2 = hf['mid']\n",
    "x = hf['test']\n",
    "p = int(len(x) / 24)\n",
    "pp = int(p / 26)\n",
    "pts = 200\n",
    "# x_train, x_test, y_train, y_test = train_test_split(xx, yy, test_size=0.15, random_state=42, stratify=yy)\n"
   ]
  },
  {
   "cell_type": "code",
   "execution_count": 2,
   "metadata": {},
   "outputs": [
    {
     "name": "stdout",
     "output_type": "stream",
     "text": [
      "OOK\n",
      "4ASK\n",
      "8ASK\n",
      "BPSK\n",
      "QPSK\n",
      "8PSK\n",
      "16PSK\n",
      "32PSK\n",
      "16APSK\n",
      "32APSK\n",
      "64APSK\n",
      "128APSK\n",
      "16QAM\n",
      "32QAM\n",
      "64QAM\n",
      "128QAM\n",
      "256QAM\n",
      "GMSK\n",
      "OQPSK\n",
      "(30400, 512)\n"
     ]
    }
   ],
   "source": [
    "snr = range(0,8)\n",
    "xx1 = []\n",
    "for i in mod:\n",
    "    for j in snr:\n",
    "        base = i*p + j*pp + 2\n",
    "        s = x[base:(base + pts),:,0] + 1j*x[base:(base + pts),:,1]\n",
    "        s = crr.CCSD(s, N=256, L=128, sigma=1.0)\n",
    "        xx1.append(np.concatenate((np.amax(s, axis=-1), np.amax(s, axis=-2)), axis=-1))\n",
    "    print (mods_[i])\n",
    "xx1 = np.asarray(xx1).reshape((-1, int(s.shape[-1]*2)))\n",
    "print (xx1.shape)\n"
   ]
  },
  {
   "cell_type": "code",
   "execution_count": 3,
   "metadata": {},
   "outputs": [
    {
     "name": "stdout",
     "output_type": "stream",
     "text": [
      "OOK\n",
      "4ASK\n",
      "8ASK\n",
      "BPSK\n",
      "QPSK\n",
      "8PSK\n",
      "16PSK\n",
      "32PSK\n",
      "16APSK\n",
      "32APSK\n",
      "64APSK\n",
      "128APSK\n",
      "16QAM\n",
      "32QAM\n",
      "64QAM\n",
      "128QAM\n",
      "256QAM\n",
      "GMSK\n",
      "OQPSK\n",
      "(30400, 512)\n"
     ]
    }
   ],
   "source": [
    "snr = range(8,16)\n",
    "xx2 = []\n",
    "for i in mod:\n",
    "    for j in snr:\n",
    "        base = i*p + j*pp + 2\n",
    "        s = x[base:(base + pts),:,0] + 1j*x[base:(base + pts),:,1]\n",
    "        s = crr.CCSD(s, N=256, L=128, sigma=1.0)\n",
    "        xx2.append(np.concatenate((np.amax(s, axis=-1), np.amax(s, axis=-2)), axis=-1))\n",
    "    print (mods_[i])\n",
    "xx2 = np.asarray(xx2).reshape((-1, int(s.shape[-1]*2)))\n",
    "print (xx2.shape)\n"
   ]
  },
  {
   "cell_type": "code",
   "execution_count": 4,
   "metadata": {
    "scrolled": true
   },
   "outputs": [
    {
     "name": "stdout",
     "output_type": "stream",
     "text": [
      "OOK\n",
      "4ASK\n",
      "8ASK\n",
      "BPSK\n",
      "QPSK\n",
      "8PSK\n",
      "16PSK\n",
      "32PSK\n",
      "16APSK\n",
      "32APSK\n",
      "64APSK\n",
      "128APSK\n",
      "16QAM\n",
      "32QAM\n",
      "64QAM\n",
      "128QAM\n",
      "256QAM\n",
      "GMSK\n",
      "OQPSK\n",
      "(38000, 512)\n"
     ]
    }
   ],
   "source": [
    "snr = range(16,26)\n",
    "xx3 = []\n",
    "for i in mod:\n",
    "    for j in snr:\n",
    "        base = i*p + j*pp + 2\n",
    "        s = x[base:(base + pts),:,0] + 1j*x[base:(base + pts),:,1]\n",
    "        s = crr.CCSD(s, N=256, L=128, sigma=1.0)\n",
    "        xx3.append(np.concatenate((np.amax(s, axis=-1), np.amax(s, axis=-2)), axis=-1))\n",
    "    print (mods_[i])\n",
    "xx3 = np.asarray(xx3).reshape((-1, int(s.shape[-1]*2)))\n",
    "print (xx3.shape)\n"
   ]
  },
  {
   "cell_type": "code",
   "execution_count": 7,
   "metadata": {},
   "outputs": [
    {
     "name": "stdout",
     "output_type": "stream",
     "text": [
      "(30400,)\n"
     ]
    },
    {
     "data": {
      "text/plain": [
       "0.10733552631578948"
      ]
     },
     "execution_count": 7,
     "metadata": {},
     "output_type": "execute_result"
    }
   ],
   "source": [
    "yy = []\n",
    "for i in range(len(mod)):\n",
    "    yy.append([i] * int(len(xx1) / len(mod)))\n",
    "yy = np.hstack(yy)\n",
    "print (yy.shape)\n",
    "\n",
    "lda = LDA().fit(xx1, yy)\n",
    "lda.score(xx1, yy)"
   ]
  },
  {
   "cell_type": "code",
   "execution_count": 8,
   "metadata": {},
   "outputs": [
    {
     "name": "stdout",
     "output_type": "stream",
     "text": [
      "(30400,)\n"
     ]
    },
    {
     "data": {
      "text/plain": [
       "0.16582236842105263"
      ]
     },
     "execution_count": 8,
     "metadata": {},
     "output_type": "execute_result"
    }
   ],
   "source": [
    "yy = []\n",
    "for i in range(len(mod)):\n",
    "    yy.append([i] * int(len(xx2) / len(mod)))\n",
    "yy = np.hstack(yy)\n",
    "print (yy.shape)\n",
    "\n",
    "lda = LDA().fit(xx2, yy)\n",
    "lda.score(xx2, yy)"
   ]
  },
  {
   "cell_type": "code",
   "execution_count": 9,
   "metadata": {},
   "outputs": [
    {
     "name": "stdout",
     "output_type": "stream",
     "text": [
      "(38000,)\n"
     ]
    },
    {
     "data": {
      "text/plain": [
       "0.27431578947368424"
      ]
     },
     "execution_count": 9,
     "metadata": {},
     "output_type": "execute_result"
    }
   ],
   "source": [
    "yy = []\n",
    "for i in range(len(mod)):\n",
    "    yy.append([i] * int(len(xx3) / len(mod)))\n",
    "yy = np.hstack(yy)\n",
    "print (yy.shape)\n",
    "\n",
    "lda = LDA().fit(xx3, yy)\n",
    "lda.score(xx3, yy)"
   ]
  },
  {
   "cell_type": "markdown",
   "metadata": {},
   "source": [
    "### CCSD 2D."
   ]
  },
  {
   "cell_type": "code",
   "execution_count": 6,
   "metadata": {},
   "outputs": [
    {
     "name": "stdout",
     "output_type": "stream",
     "text": [
      "(30400,)\n",
      "(30400, 4096)\n"
     ]
    },
    {
     "data": {
      "text/plain": [
       "0.3556578947368421"
      ]
     },
     "execution_count": 6,
     "metadata": {},
     "output_type": "execute_result"
    }
   ],
   "source": [
    "yy = []\n",
    "for i in range(len(mod)):\n",
    "    yy.append([i] * int(len(xx1) / len(mod)))\n",
    "yy = np.hstack(yy)\n",
    "print (yy.shape)\n",
    "xx = xx1.reshape((len(xx1), -1))\n",
    "print (xx.shape)\n",
    "\n",
    "lda = LDA().fit(xx, yy)\n",
    "lda.score(xx, yy)"
   ]
  },
  {
   "cell_type": "code",
   "execution_count": 7,
   "metadata": {},
   "outputs": [
    {
     "name": "stdout",
     "output_type": "stream",
     "text": [
      "(30400,)\n",
      "(30400, 4096)\n"
     ]
    },
    {
     "data": {
      "text/plain": [
       "0.39210526315789473"
      ]
     },
     "execution_count": 7,
     "metadata": {},
     "output_type": "execute_result"
    }
   ],
   "source": [
    "yy = []\n",
    "for i in range(len(mod)):\n",
    "    yy.append([i] * int(len(xx2) / len(mod)))\n",
    "yy = np.hstack(yy)\n",
    "print (yy.shape)\n",
    "xx = xx2.reshape((len(xx2), -1))\n",
    "print (xx.shape)\n",
    "\n",
    "lda = LDA().fit(xx, yy)\n",
    "lda.score(xx, yy)"
   ]
  },
  {
   "cell_type": "code",
   "execution_count": 8,
   "metadata": {},
   "outputs": [
    {
     "name": "stdout",
     "output_type": "stream",
     "text": [
      "(38000,)\n",
      "(38000, 4096)\n"
     ]
    },
    {
     "data": {
      "text/plain": [
       "0.5323684210526316"
      ]
     },
     "execution_count": 8,
     "metadata": {},
     "output_type": "execute_result"
    }
   ],
   "source": [
    "yy = []\n",
    "for i in range(len(mod)):\n",
    "    yy.append([i] * int(len(xx3) / len(mod)))\n",
    "yy = np.hstack(yy)\n",
    "print (yy.shape)\n",
    "xx = xx3.reshape((len(xx3), -1))\n",
    "print (xx.shape)\n",
    "\n",
    "lda = LDA().fit(xx, yy)\n",
    "lda.score(xx, yy)"
   ]
  },
  {
   "cell_type": "markdown",
   "metadata": {},
   "source": [
    "### SCD 2D array."
   ]
  },
  {
   "cell_type": "code",
   "execution_count": 11,
   "metadata": {},
   "outputs": [
    {
     "name": "stdout",
     "output_type": "stream",
     "text": [
      "(30400,)\n",
      "(30400, 4096)\n"
     ]
    },
    {
     "data": {
      "text/plain": [
       "0.4911842105263158"
      ]
     },
     "execution_count": 11,
     "metadata": {},
     "output_type": "execute_result"
    }
   ],
   "source": [
    "yy = []\n",
    "for i in range(len(mod)):\n",
    "    yy.append([i] * int(len(xx1) / len(mod)))\n",
    "yy = np.hstack(yy)\n",
    "print (yy.shape)\n",
    "xx = xx1.reshape((len(xx1), -1))\n",
    "print (xx.shape)\n",
    "\n",
    "lda = LDA().fit(xx, yy)\n",
    "lda.score(xx, yy)"
   ]
  },
  {
   "cell_type": "code",
   "execution_count": 12,
   "metadata": {},
   "outputs": [
    {
     "name": "stdout",
     "output_type": "stream",
     "text": [
      "(30400,)\n",
      "(30400, 4096)\n"
     ]
    },
    {
     "data": {
      "text/plain": [
       "0.5675"
      ]
     },
     "execution_count": 12,
     "metadata": {},
     "output_type": "execute_result"
    }
   ],
   "source": [
    "yy = []\n",
    "for i in range(len(mod)):\n",
    "    yy.append([i] * int(len(xx2) / len(mod)))\n",
    "yy = np.hstack(yy)\n",
    "print (yy.shape)\n",
    "xx = xx2.reshape((len(xx2), -1))\n",
    "print (xx.shape)\n",
    "\n",
    "lda = LDA().fit(xx, yy)\n",
    "lda.score(xx, yy)"
   ]
  },
  {
   "cell_type": "code",
   "execution_count": 13,
   "metadata": {},
   "outputs": [
    {
     "name": "stdout",
     "output_type": "stream",
     "text": [
      "(38000,)\n",
      "(38000, 4096)\n"
     ]
    },
    {
     "data": {
      "text/plain": [
       "0.5410789473684211"
      ]
     },
     "execution_count": 13,
     "metadata": {},
     "output_type": "execute_result"
    }
   ],
   "source": [
    "yy = []\n",
    "for i in range(len(mod)):\n",
    "    yy.append([i] * int(len(xx3) / len(mod)))\n",
    "yy = np.hstack(yy)\n",
    "print (yy.shape)\n",
    "xx = xx3.reshape((len(xx3), -1))\n",
    "print (xx.shape)\n",
    "\n",
    "lda = LDA().fit(xx, yy)\n",
    "lda.score(xx, yy)"
   ]
  },
  {
   "cell_type": "code",
   "execution_count": null,
   "metadata": {},
   "outputs": [],
   "source": []
  }
 ],
 "metadata": {
  "kernelspec": {
   "display_name": "Python 3",
   "language": "python",
   "name": "python3"
  },
  "language_info": {
   "codemirror_mode": {
    "name": "ipython",
    "version": 3
   },
   "file_extension": ".py",
   "mimetype": "text/x-python",
   "name": "python",
   "nbconvert_exporter": "python",
   "pygments_lexer": "ipython3",
   "version": "3.6.9"
  }
 },
 "nbformat": 4,
 "nbformat_minor": 2
}
