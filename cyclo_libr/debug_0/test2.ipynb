{
 "cells": [
  {
   "cell_type": "code",
   "execution_count": null,
   "metadata": {},
   "outputs": [],
   "source": [
    "import numpy as np\n",
    "import lib.fot as fot\n",
    "import lib.sot as crr\n",
    "import lib.hos as hos\n",
    "import os, sys, time\n",
    "import h5py, pickle\n",
    "import numpy\n",
    "import matplotlib.pyplot as plt\n",
    "from scipy import signal\n",
    "from scipy.fft import fft, fftfreq, fftshift\n",
    "from matplotlib import cm\n",
    "from mpl_toolkits.mplot3d import Axes3D\n",
    "\n",
    "large = 18\n",
    "params = { 'legend.fontsize' : large,\n",
    "           'figure.figsize'  : (2, 20),\n",
    "           'axes.labelsize'  : large,\n",
    "           'axes.titlesize'  : large,\n",
    "           'xtick.labelsize' : large,\n",
    "           'ytick.labelsize' : large }\n",
    "plt.rcParams.update(params)\n"
   ]
  },
  {
   "cell_type": "code",
   "execution_count": null,
   "metadata": {},
   "outputs": [],
   "source": [
    "hf = h5py.File('../../dataset/201801a_data_test.h5', 'r+')\n",
    "x = hf['test']\n",
    "p = int(len(x) / 24)\n",
    "pp = int(p / 26)\n",
    "n = 2\n",
    "snr = range(25,26)\n",
    "\n",
    "mod_list = ['OOK', '4ASK', '8ASK', 'BPSK', 'QPSK', '8PSK', '16PSK', '32PSK', '16APSK',\\\n",
    "         '32APSK', '64APSK', '128APSK', '16QAM', '32QAM', '64QAM', '128QAM', \\\n",
    "         '256QAM', 'AM-SSB-WC', 'AM-SSB-SC', 'AM-DSB-WC', 'AM-DSB-SC', 'FM', 'GMSK', 'OQPSK']\n",
    "mod = [0,1,2,3,23]\n",
    "dataset = []\n",
    "for i in mod:\n",
    "    for j in snr:\n",
    "        base = i*p + j*pp + 10\n",
    "        \n",
    "        \n",
    "        dataset.append(x[base:(base+n),:,0] + 1j*x[base:(base+n),:,1])\n",
    "\n",
    "dataset = np.asarray(dataset)\n",
    "print (dataset.shape)\n",
    "hf.close()"
   ]
  },
  {
   "cell_type": "code",
   "execution_count": null,
   "metadata": {},
   "outputs": [],
   "source": [
    "data = dataset[:,:,:].reshape((len(mod), -1)) # np.random.randn()\n",
    "ws = 256\n",
    "st = 64\n",
    "start = time.time()\n",
    "x1 = crr.SCD(data, ws, st, True, 0)\n",
    "end = time.time()\n",
    "\n",
    "print ('x1 time', end - start)\n",
    "print (x1.shape)"
   ]
  },
  {
   "cell_type": "code",
   "execution_count": null,
   "metadata": {},
   "outputs": [],
   "source": [
    "%matplotlib inline\n",
    "l = (2048//2) - (128//2)\n",
    "m = x1#[:,32:96,32:96]\n",
    "\n",
    "X = np.arange(-m.shape[-1]//2, m.shape[-1]//2)\n",
    "Y = np.arange(-m.shape[-2]//2, m.shape[-2]//2)\n",
    "X, Y = np.meshgrid(X, Y)\n",
    "\n",
    "for i in range(m.shape[0]):\n",
    "    print ('>>>')\n",
    "    plt.imshow(m[i, :, :], interpolation='none')\n",
    "    plt.show()"
   ]
  },
  {
   "cell_type": "code",
   "execution_count": null,
   "metadata": {
    "scrolled": false
   },
   "outputs": [],
   "source": [
    "%matplotlib inline\n",
    "l = (ws//4) \n",
    "m = x1[:,l:(l*3),l:(l*3)]\n",
    "\n",
    "X = np.arange(-m.shape[-1]//2, m.shape[-1]//2)\n",
    "Y = np.arange(-m.shape[-2]//2, m.shape[-2]//2)\n",
    "X, Y = np.meshgrid(X, Y)\n",
    "\n",
    "for i in range(m.shape[0]):\n",
    "    print ('>>>')\n",
    "    fig = plt.figure(figsize=(8,8))\n",
    "    ax = fig.add_subplot(111, projection='3d')\n",
    "    ax.legend()\n",
    "    ax.set_xlabel(r'$f$', fontsize=22)\n",
    "    ax.set_ylabel(r'$\\alpha$',fontsize=22)\n",
    "    ax.set_zlabel('SCD',fontsize=22)\n",
    "    ax.plot_surface(X, Y, m[i,:,:], cmap=cm.viridis)\n",
    "    plt.show()"
   ]
  },
  {
   "cell_type": "code",
   "execution_count": null,
   "metadata": {
    "scrolled": true
   },
   "outputs": [],
   "source": [
    "%matplotlib inline\n",
    "#512 256 156 356\n",
    "#m = mm1[:,0,166:346,166:346]\n",
    "#m = mm1[:,0,78:178,78:178]\n",
    "m = mm1[:,0,:,:]\n",
    "\n",
    "X = np.arange(-m.shape[-1]//2, m.shape[-1]//2)\n",
    "Y = np.arange(-m.shape[-2]//2, m.shape[-2]//2)\n",
    "X, Y = np.meshgrid(X, Y)\n",
    "\n",
    "for i in range(m.shape[0]):\n",
    "    print ('>>>')\n",
    "    fig = plt.figure(figsize=(8,8))\n",
    "    ax = fig.add_subplot(111, projection='3d')\n",
    "    ax.legend()\n",
    "    ax.set_xlabel(r'$f$', fontsize=22)\n",
    "    ax.set_ylabel(r'$\\alpha$',fontsize=22)\n",
    "    ax.set_zlabel('SCD',fontsize=22)\n",
    "    ax.plot_surface(X, Y, m[i,:,:]/ np.max(m[i,:,:]), cmap=cm.viridis)\n",
    "    plt.show()"
   ]
  },
  {
   "cell_type": "code",
   "execution_count": null,
   "metadata": {
    "scrolled": true
   },
   "outputs": [],
   "source": [
    "######## sigma = 0.1\n",
    "%matplotlib inline\n",
    "#512 256 156 356\n",
    "m = mm1[:,0,166:346,166:346]\n",
    "#m = mm1[:,0,78:178,78:178]\n",
    "#m = mm1[:,0,:,:]\n",
    "\n",
    "X = np.arange(-m.shape[-1]//2, m.shape[-1]//2)\n",
    "Y = np.arange(-m.shape[-2]//2, m.shape[-2]//2)\n",
    "X, Y = np.meshgrid(X, Y)\n",
    "\n",
    "for i in range(m.shape[0]):\n",
    "    print ('>>>')\n",
    "    fig = plt.figure(figsize=(8,8))\n",
    "    ax = fig.add_subplot(111, projection='3d')\n",
    "    ax.legend()\n",
    "    ax.set_xlabel(r'$f$', fontsize=22)\n",
    "    ax.set_ylabel(r'$\\alpha$',fontsize=22)\n",
    "    ax.set_zlabel('CCSD',fontsize=22)\n",
    "    ax.plot_surface(X, Y, m[i,:,:]/ np.max(m[i,:,:]), cmap=cm.viridis)\n",
    "    plt.show()"
   ]
  },
  {
   "cell_type": "code",
   "execution_count": null,
   "metadata": {
    "scrolled": true
   },
   "outputs": [],
   "source": [
    "%matplotlib inline\n",
    "m = mm0[:,78:178,78:178]\n",
    "X = np.arange(m.shape[-1])\n",
    "Y = np.arange(m.shape[-2])\n",
    "X, Y = np.meshgrid(X, Y)\n",
    "\n",
    "for i in range(m.shape[0]):\n",
    "    print ('>>>')\n",
    "    fig = plt.figure(figsize=(7,7))\n",
    "    ax = fig.add_subplot(111, projection='3d')\n",
    "    ax.set_zlabel('SCD')\n",
    "    ax.plot_surface(X, Y, m[i,:,:], cmap=cm.summer)\n",
    "    plt.show()"
   ]
  },
  {
   "cell_type": "code",
   "execution_count": null,
   "metadata": {
    "scrolled": true
   },
   "outputs": [],
   "source": [
    "%matplotlib inline\n",
    "#512 256 156 356\n",
    "#m = mm1[:,0,156:356,156:356]\n",
    "m = mm1[:,0,68:188,68:188]\n",
    "#m = mm1[:,0,:,:]\n",
    "\n",
    "X = np.arange(-m.shape[-1]//2, m.shape[-1]//2)\n",
    "Y = np.arange(-m.shape[-2]//2, m.shape[-2]//2)\n",
    "X, Y = np.meshgrid(X, Y)\n",
    "\n",
    "for i in range(m.shape[0]):\n",
    "    print ('>>>')\n",
    "    fig = plt.figure(figsize=(8,8))\n",
    "    ax = fig.add_subplot(111, projection='3d')\n",
    "    ax.legend()\n",
    "    ax.set_xlabel(r'$f$', fontsize=22)\n",
    "    ax.set_ylabel(r'$\\alpha$',fontsize=22)\n",
    "    ax.set_zlabel('SCD',fontsize=22)\n",
    "    ax.plot_surface(X, Y, m[i,:,:]/ np.max(m[i,:,:]), cmap=cm.viridis)\n",
    "    plt.show()"
   ]
  },
  {
   "cell_type": "code",
   "execution_count": null,
   "metadata": {
    "scrolled": true
   },
   "outputs": [],
   "source": [
    "%matplotlib inline\n",
    "#512 256 156 356\n",
    "m = mm1[:,0,156:356,156:356]\n",
    "#m = mm1[:,0,78:178,78:178]\n",
    "#m = mm1[:,0,:,:]\n",
    "\n",
    "X = np.arange(-m.shape[-1]//2, m.shape[-1]//2)\n",
    "Y = np.arange(-m.shape[-2]//2, m.shape[-2]//2)\n",
    "X, Y = np.meshgrid(X, Y)\n",
    "\n",
    "for i in range(m.shape[0]):\n",
    "    print ('>>>')\n",
    "    fig = plt.figure(figsize=(8,8))\n",
    "    ax = fig.add_subplot(111, projection='3d')\n",
    "    ax.legend()\n",
    "    ax.set_xlabel(r'$f$', fontsize=20)\n",
    "    ax.set_ylabel(r'$\\alpha$',fontsize=20)\n",
    "    ax.set_zlabel('SCD',fontsize=20)\n",
    "    ax.plot_surface(X, Y, m[i,:,:]/ np.max(m[i,:,:]), cmap=cm.viridis)\n",
    "    plt.show()"
   ]
  },
  {
   "cell_type": "code",
   "execution_count": null,
   "metadata": {
    "scrolled": true
   },
   "outputs": [],
   "source": [
    "print (mm0[:,78:178,78:178]-mm1[:,1,78:178,78:178])"
   ]
  },
  {
   "cell_type": "code",
   "execution_count": null,
   "metadata": {},
   "outputs": [],
   "source": []
  }
 ],
 "metadata": {
  "kernelspec": {
   "display_name": "Python 3",
   "language": "python",
   "name": "python3"
  },
  "language_info": {
   "codemirror_mode": {
    "name": "ipython",
    "version": 3
   },
   "file_extension": ".py",
   "mimetype": "text/x-python",
   "name": "python",
   "nbconvert_exporter": "python",
   "pygments_lexer": "ipython3",
   "version": "3.6.9"
  }
 },
 "nbformat": 4,
 "nbformat_minor": 2
}
