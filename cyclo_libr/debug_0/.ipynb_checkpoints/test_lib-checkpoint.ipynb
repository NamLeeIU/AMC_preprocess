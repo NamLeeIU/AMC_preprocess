{
 "cells": [
  {
   "cell_type": "code",
   "execution_count": 1,
   "metadata": {},
   "outputs": [],
   "source": [
    "#%matplotlib notebook\n",
    "import h5py, pickle\n",
    "import numpy as np\n",
    "import numpy\n",
    "import matplotlib.pyplot as plt\n",
    "import matplotlib.cm as cm\n",
    "from sklearn.discriminant_analysis import LinearDiscriminantAnalysis as LDA\n",
    "from sklearn.linear_model import LogisticRegression as LRG\n",
    "from sklearn.decomposition import PCA\n",
    "from sklearn.metrics import confusion_matrix\n",
    "import seaborn as sn\n",
    "from stockwell import st\n",
    "\n",
    "fm = 64\n",
    "para = {'figure.figsize'  : (8, 6) }\n",
    "plt.rcParams.update(para)\n",
    "\n",
    "mods_ = ['OOK', '4ASK', '8ASK', 'BPSK', 'QPSK', '8PSK', '16PSK', '32PSK', '16APSK',\\\n",
    "         '32APSK', '64APSK', '128APSK', '16QAM', '32QAM', '64QAM', '128QAM', \\\n",
    "         '256QAM', 'AM-SSB-WC', 'AM-SSB-SC', 'AM-DSB-WC', 'AM-DSB-SC', 'FM', 'GMSK', 'OQPSK']\n",
    "mod = [i for i in range(0, 24) if i not in [17,18,19,20,21]]  # all digital mods.\n",
    "\n",
    "hf = h5py.File('../../dataset/201801a_data_test.h5', 'r+')\n",
    "x = hf['test'][:, :, :]\n",
    "p = int(len(x) / 24)\n",
    "pp = int(p / 26)\n",
    "pts = 300\n",
    "tr = int(pts // 10) * 9\n",
    "te = pts - tr\n",
    "hf.close()\n",
    "\n",
    "def create_label(cls, num):\n",
    "    mods = range(cls)\n",
    "    mo = []\n",
    "    for m in mods:\n",
    "        mo.append([m] * num)\n",
    "    mo = np.hstack(mo)\n",
    "    return mo\n",
    "\n",
    "def lda(out_tr, yy_tr, out_te, yy_te):\n",
    "    lda = LDA().fit(out_tr, yy_tr)\n",
    "    cm = confusion_matrix(yy_te, lda.predict(out_te))\n",
    "    return lda.score(out_te, yy_te), cm\n",
    "\n",
    "def run(snr):\n",
    "    ccsd0 = []\n",
    "    ccsd1 = []\n",
    "    for i in mod:\n",
    "        for j in snr:\n",
    "            base = i*p + j*pp + 2\n",
    "            #s = x[base:(base + pts),:,0] + 1j*x[base:(base + pts),:,1]\n",
    "            o = []\n",
    "            for k in range(pts):\n",
    "                s1 = x[base+k,:,0]\n",
    "                s2 = x[base+k,:,1]\n",
    "                s1 = st.st(s1, 0, fm)\n",
    "                s2 = st.st(s2, 0, fm)\n",
    "                s = s1 + 1j*s2\n",
    "                s = np.abs(s)\n",
    "                s = block_reduce(s, block_size=(2, 4), func=np.max).reshape((-1))\n",
    "                o.append(s)\n",
    "            \n",
    "            o = np.asarray(o)\n",
    "            ccsd0.append(o[:tr, :])\n",
    "            ccsd1.append(o[tr::, :])\n",
    "\n",
    "    ccsd0 = np.asarray(ccsd0)\n",
    "    ccsd1 = np.asarray(ccsd1)\n",
    "    l = ccsd0.shape[-1]\n",
    "    if np.iscomplexobj(ccsd0):\n",
    "        ccsd0, ccsd1 = np.abs(ccsd0), np.abs(ccsd1)\n",
    "    \n",
    "    del s1, s2, s, o\n",
    "    ccsd0 = ccsd0.reshape((-1, l))\n",
    "    ccsd1 = ccsd1.reshape((-1, l))\n",
    "    print (ccsd0.shape, ccsd1.shape)\n",
    "    return ccsd0, ccsd1\n"
   ]
  },
  {
   "cell_type": "code",
   "execution_count": 2,
   "metadata": {},
   "outputs": [
    {
     "name": "stdout",
     "output_type": "stream",
     "text": [
      "(65, 1024)\n",
      "(65, 1024)\n",
      "(65, 1024)\n",
      "(65, 1024)\n",
      "(65, 1024)\n",
      "(65, 1024)\n",
      "(65, 1024)\n",
      "(65, 1024)\n",
      "(65, 1024)\n",
      "(65, 1024)\n",
      "(65, 1024)\n",
      "(65, 1024)\n",
      "(65, 1024)\n",
      "(65, 1024)\n",
      "(65, 1024)\n",
      "(65, 1024)\n",
      "(65, 1024)\n",
      "(65, 1024)\n",
      "(65, 1024)\n"
     ]
    },
    {
     "ename": "ValueError",
     "evalue": "cannot reshape array of size 0 into shape (0)",
     "output_type": "error",
     "traceback": [
      "\u001b[0;31m---------------------------------------------------------------------------\u001b[0m",
      "\u001b[0;31mValueError\u001b[0m                                Traceback (most recent call last)",
      "\u001b[0;32m<ipython-input-2-f8279a54dad4>\u001b[0m in \u001b[0;36m<module>\u001b[0;34m\u001b[0m\n\u001b[1;32m      2\u001b[0m \u001b[0;34m\u001b[0m\u001b[0m\n\u001b[1;32m      3\u001b[0m \u001b[0msnr\u001b[0m \u001b[0;34m=\u001b[0m \u001b[0mrange\u001b[0m\u001b[0;34m(\u001b[0m\u001b[0;36m18\u001b[0m\u001b[0;34m,\u001b[0m\u001b[0;36m19\u001b[0m\u001b[0;34m)\u001b[0m\u001b[0;34m\u001b[0m\u001b[0;34m\u001b[0m\u001b[0m\n\u001b[0;32m----> 4\u001b[0;31m \u001b[0mx_tr\u001b[0m\u001b[0;34m,\u001b[0m \u001b[0mx_te\u001b[0m \u001b[0;34m=\u001b[0m \u001b[0mrun\u001b[0m\u001b[0;34m(\u001b[0m\u001b[0msnr\u001b[0m\u001b[0;34m,\u001b[0m \u001b[0mtrans\u001b[0m\u001b[0;34m)\u001b[0m\u001b[0;34m\u001b[0m\u001b[0;34m\u001b[0m\u001b[0m\n\u001b[0m",
      "\u001b[0;32m<ipython-input-1-e5540a894096>\u001b[0m in \u001b[0;36mrun\u001b[0;34m(snr, trans)\u001b[0m\n\u001b[1;32m     68\u001b[0m         \u001b[0mccsd0\u001b[0m\u001b[0;34m,\u001b[0m \u001b[0mccsd1\u001b[0m \u001b[0;34m=\u001b[0m \u001b[0mnp\u001b[0m\u001b[0;34m.\u001b[0m\u001b[0mabs\u001b[0m\u001b[0;34m(\u001b[0m\u001b[0mccsd0\u001b[0m\u001b[0;34m)\u001b[0m\u001b[0;34m,\u001b[0m \u001b[0mnp\u001b[0m\u001b[0;34m.\u001b[0m\u001b[0mabs\u001b[0m\u001b[0;34m(\u001b[0m\u001b[0mccsd1\u001b[0m\u001b[0;34m)\u001b[0m\u001b[0;34m\u001b[0m\u001b[0;34m\u001b[0m\u001b[0m\n\u001b[1;32m     69\u001b[0m \u001b[0;34m\u001b[0m\u001b[0m\n\u001b[0;32m---> 70\u001b[0;31m     \u001b[0mccsd0\u001b[0m \u001b[0;34m=\u001b[0m \u001b[0mccsd0\u001b[0m\u001b[0;34m.\u001b[0m\u001b[0mreshape\u001b[0m\u001b[0;34m(\u001b[0m\u001b[0;34m(\u001b[0m\u001b[0;34m-\u001b[0m\u001b[0;36m1\u001b[0m\u001b[0;34m,\u001b[0m \u001b[0ml\u001b[0m\u001b[0;34m)\u001b[0m\u001b[0;34m)\u001b[0m\u001b[0;34m\u001b[0m\u001b[0;34m\u001b[0m\u001b[0m\n\u001b[0m\u001b[1;32m     71\u001b[0m     \u001b[0mccsd1\u001b[0m \u001b[0;34m=\u001b[0m \u001b[0mccsd1\u001b[0m\u001b[0;34m.\u001b[0m\u001b[0mreshape\u001b[0m\u001b[0;34m(\u001b[0m\u001b[0;34m(\u001b[0m\u001b[0;34m-\u001b[0m\u001b[0;36m1\u001b[0m\u001b[0;34m,\u001b[0m \u001b[0ml\u001b[0m\u001b[0;34m)\u001b[0m\u001b[0;34m)\u001b[0m\u001b[0;34m\u001b[0m\u001b[0;34m\u001b[0m\u001b[0m\n\u001b[1;32m     72\u001b[0m     \u001b[0mprint\u001b[0m \u001b[0;34m(\u001b[0m\u001b[0mccsd0\u001b[0m\u001b[0;34m.\u001b[0m\u001b[0mshape\u001b[0m\u001b[0;34m,\u001b[0m \u001b[0mccsd1\u001b[0m\u001b[0;34m.\u001b[0m\u001b[0mshape\u001b[0m\u001b[0;34m)\u001b[0m\u001b[0;34m\u001b[0m\u001b[0;34m\u001b[0m\u001b[0m\n",
      "\u001b[0;31mValueError\u001b[0m: cannot reshape array of size 0 into shape (0)"
     ]
    }
   ],
   "source": [
    "trans = 'ST'\n",
    "\n",
    "snr = range(18,19)\n",
    "x_tr, x_te = run(snr, trans)\n"
   ]
  },
  {
   "cell_type": "code",
   "execution_count": null,
   "metadata": {},
   "outputs": [],
   "source": [
    "trans = 'Raw_IQ'\n",
    "\n",
    "snr = range(18,26)\n",
    "x_tr, x_te = run(snr, trans)\n",
    "yy_tr = create_label(len(mod), tr * len(snr))\n",
    "yy_te = create_label(len(mod), te * len(snr))\n",
    "\n",
    "print ('start test')\n",
    "sc, cm = lda(x_tr, yy_tr, x_te, yy_te)\n",
    "print ('acc:', sc)\n",
    "fig = plt.figure()\n",
    "name = \"highSNR_{}\".format(trans)\n",
    "plt.title(name, fontsize =10)\n",
    "sn.heatmap(cm, cmap='YlOrRd', annot=True, xticklabels=mods_, yticklabels=mods_, annot_kws={\"size\": 10})\n",
    "plt.show()\n",
    "\n",
    "#######################  MID SNR.\n",
    "snr = range(8,16)\n",
    "x_tr, x_te = run(snr, trans)\n",
    "yy_tr = create_label(len(mod), tr * len(snr))\n",
    "yy_te = create_label(len(mod), te * len(snr))\n",
    "\n",
    "print ('start test')\n",
    "sc, cm = lda(x_tr, yy_tr, x_te, yy_te)\n",
    "print ('acc:', sc)\n",
    "fig = plt.figure()\n",
    "name = \"middleSNR_{}\".format(trans)\n",
    "plt.title(name, fontsize =10)\n",
    "sn.heatmap(cm, cmap='YlOrRd', annot=True, xticklabels=mods_, yticklabels=mods_, annot_kws={\"size\": 10})\n",
    "plt.show()\n",
    "\n",
    "#######################  LOW SNR.\n",
    "snr = range(0,8)\n",
    "x_tr, x_te = run(snr, trans)\n",
    "yy_tr = create_label(len(mod), tr * len(snr))\n",
    "yy_te = create_label(len(mod), te * len(snr))\n",
    "\n",
    "print ('start test')\n",
    "sc, cm = lda(x_tr, yy_tr, x_te, yy_te)\n",
    "print ('acc:', sc)\n",
    "fig = plt.figure()\n",
    "name = \"lowSNR_{}\".format(trans)\n",
    "plt.title(name, fontsize =10)\n",
    "sn.heatmap(cm, cmap='YlOrRd', annot=True, xticklabels=mods_, yticklabels=mods_, annot_kws={\"size\": 10})\n",
    "plt.show()\n"
   ]
  },
  {
   "cell_type": "code",
   "execution_count": null,
   "metadata": {},
   "outputs": [],
   "source": []
  },
  {
   "cell_type": "code",
   "execution_count": null,
   "metadata": {
    "scrolled": true
   },
   "outputs": [],
   "source": [
    "mm = []\n",
    "hoc = hos.HOC_cyclic(window_size=256, step=16)\n",
    "\n",
    "for mod in range(1, 25):\n",
    "    if mod not in num:\n",
    "        continue\n",
    "    out = []\n",
    "    print (mods_[mod])\n",
    "    for i in range(bia, bia+1):\n",
    "        out.append(hoc(x[(pp*mod - snr - i),:,0] + 1j*x[(pp*mod - snr - i),:,1]))\n",
    "    mm.append(out)\n",
    "mm = np.asarray(mm)\n",
    "print (mm.shape)\n"
   ]
  },
  {
   "cell_type": "code",
   "execution_count": null,
   "metadata": {
    "scrolled": true
   },
   "outputs": [],
   "source": [
    "\n",
    "m = abs(mm)\n",
    "cc = ['40','42','61','63']\n",
    "alpha = 1.0\n",
    "   \n",
    "plt.rcParams[\"figure.figsize\"]=20,2\n",
    "plt.figure()\n",
    "for n in range(m.shape[0]):\n",
    "    fig, a =  plt.subplots(1,2)\n",
    "\n",
    "    a[0].set_title(mods_[num[n]] + '_RD-CTCF_' + '61')\n",
    "    a[0].plot(m[n,0,2,:], alpha=alpha)\n",
    "    a[0].set_xlabel(r\"$\\alpha$\")\n",
    "    a[0].set_ylabel(\"Magnitude\")\n",
    "    a[1].set_title(mods_[num[n]] + '_RD-CTCF_' + '63')\n",
    "    a[1].plot(m[n,0,3,:], alpha=alpha)\n",
    "    a[1].set_xlabel(r\"$\\alpha$\")\n",
    "    a[1].set_ylabel(\"Magnitude\")\n",
    "    plt.show()\n"
   ]
  },
  {
   "cell_type": "code",
   "execution_count": null,
   "metadata": {
    "scrolled": true
   },
   "outputs": [],
   "source": [
    "\n",
    "m = abs(mm)\n",
    "cc = ['40','42','61','63']\n",
    "alpha = 1.0\n",
    "   \n",
    "plt.rcParams[\"figure.figsize\"]=20,2\n",
    "plt.figure()\n",
    "for n in range(m.shape[0]):\n",
    "    fig, a =  plt.subplots(1,2)\n",
    "\n",
    "    a[0].set_title(mods_[num[n]] + '_RD-CTCF_' + '40')\n",
    "    a[0].plot(m[n,0,0,:], alpha=alpha)\n",
    "    a[0].set_xlabel(r\"$\\alpha$\")\n",
    "    a[0].set_ylabel(\"Magnitude\")\n",
    "    a[1].set_title(mods_[num[n]] + '_RD-CTCF_' + '42')\n",
    "    a[1].plot(m[n,0,1,:], alpha=alpha)\n",
    "    a[1].set_xlabel(r\"$\\alpha$\")\n",
    "    a[1].set_ylabel(\"Magnitude\")\n",
    "    plt.show()\n"
   ]
  },
  {
   "cell_type": "markdown",
   "metadata": {},
   "source": [
    "## high SNR."
   ]
  },
  {
   "cell_type": "code",
   "execution_count": null,
   "metadata": {
    "scrolled": true
   },
   "outputs": [],
   "source": [
    "params = {'figure.figsize'  : (15, 2)}\n",
    "plt.rcParams.update(params)\n",
    "\n",
    "m = abs(mm)\n",
    "cc = ['C40','C42','C61','C63']\n",
    "alpha = 0.5\n",
    "for n in range(m.shape[0]):\n",
    "    for c in range(m.shape[2]):\n",
    "        for i in range(m.shape[1]):\n",
    "            plt.plot(m[n,i,c,:], alpha=alpha)\n",
    "        plt.title(mods_[num[n]] + '_' + cc[c])\n",
    "        plt.show()\n",
    "    "
   ]
  },
  {
   "cell_type": "markdown",
   "metadata": {},
   "source": [
    "### test Fourier and wavelet first order lib."
   ]
  },
  {
   "cell_type": "code",
   "execution_count": null,
   "metadata": {},
   "outputs": [],
   "source": []
  }
 ],
 "metadata": {
  "kernelspec": {
   "display_name": "Python 3",
   "language": "python",
   "name": "python3"
  },
  "language_info": {
   "codemirror_mode": {
    "name": "ipython",
    "version": 3
   },
   "file_extension": ".py",
   "mimetype": "text/x-python",
   "name": "python",
   "nbconvert_exporter": "python",
   "pygments_lexer": "ipython3",
   "version": "3.6.9"
  }
 },
 "nbformat": 4,
 "nbformat_minor": 2
}
